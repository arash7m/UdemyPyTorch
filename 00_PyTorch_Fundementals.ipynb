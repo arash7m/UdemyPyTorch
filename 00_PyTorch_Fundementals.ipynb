{
  "nbformat": 4,
  "nbformat_minor": 0,
  "metadata": {
    "colab": {
      "provenance": [],
      "authorship_tag": "ABX9TyMD31OTSPjhEbaUwiZbwhOg",
      "include_colab_link": true
    },
    "kernelspec": {
      "name": "python3",
      "display_name": "Python 3"
    },
    "language_info": {
      "name": "python"
    }
  },
  "cells": [
    {
      "cell_type": "markdown",
      "metadata": {
        "id": "view-in-github",
        "colab_type": "text"
      },
      "source": [
        "<a href=\"https://colab.research.google.com/github/arash7m/UdemyPyTorch/blob/main/00_PyTorch_Fundementals.ipynb\" target=\"_parent\"><img src=\"https://colab.research.google.com/assets/colab-badge.svg\" alt=\"Open In Colab\"/></a>"
      ]
    },
    {
      "cell_type": "code",
      "execution_count": 1,
      "metadata": {
        "colab": {
          "base_uri": "https://localhost:8080/"
        },
        "id": "ej7oaoARZFOE",
        "outputId": "8795077d-97ab-4e22-a91d-8dd459fde6f1"
      },
      "outputs": [
        {
          "output_type": "stream",
          "name": "stdout",
          "text": [
            "2.0.1+cu118\n"
          ]
        }
      ],
      "source": [
        "import torch\n",
        "import pandas as pd\n",
        "import numpy as np\n",
        "import matplotlib.pyplot as plt\n",
        "print (torch.__version__)"
      ]
    },
    {
      "cell_type": "markdown",
      "source": [
        "# Tensors\n",
        "\n",
        "Tensors are the fundamental building block of machine learning.\n",
        "Their job is represent data in a numerical way.\n",
        "representing an image as a tensor with [3, 224, 224] which would mean [colour_channels, height, width].\n",
        "It has 3 colour channels (RGB), and 224 by 224 pixels.\n",
        "The tensors have three dimensions for Color, Height and Width."
      ],
      "metadata": {
        "id": "Lk_CdGVkjUY2"
      }
    },
    {
      "cell_type": "code",
      "source": [
        "# Scalar\n",
        "# Scalar is a single number and in tensor-speak it's a zero dimension tensor.\n",
        "scalar = torch.tensor(7)\n",
        "scalar"
      ],
      "metadata": {
        "colab": {
          "base_uri": "https://localhost:8080/"
        },
        "id": "KfbkFPA2h_zQ",
        "outputId": "b6783692-9c37-4aec-cfd2-08c3b60634b4"
      },
      "execution_count": 3,
      "outputs": [
        {
          "output_type": "execute_result",
          "data": {
            "text/plain": [
              "tensor(7)"
            ]
          },
          "metadata": {},
          "execution_count": 3
        }
      ]
    },
    {
      "cell_type": "code",
      "source": [
        "scalar.ndim"
      ],
      "metadata": {
        "colab": {
          "base_uri": "https://localhost:8080/"
        },
        "id": "V6fNY8-LiyEt",
        "outputId": "551f18e3-ce1c-488e-e9ed-fac20158c857"
      },
      "execution_count": 4,
      "outputs": [
        {
          "output_type": "execute_result",
          "data": {
            "text/plain": [
              "0"
            ]
          },
          "metadata": {},
          "execution_count": 4
        }
      ]
    },
    {
      "cell_type": "code",
      "source": [
        "# Get the Python number within a tensor (only works with one-element tesors)\n",
        "scalar.item()"
      ],
      "metadata": {
        "colab": {
          "base_uri": "https://localhost:8080/"
        },
        "id": "FL2tcBvpi4Dh",
        "outputId": "0701ab56-4043-4c7b-e1c2-2e2c1316ae90"
      },
      "execution_count": 5,
      "outputs": [
        {
          "output_type": "execute_result",
          "data": {
            "text/plain": [
              "7"
            ]
          },
          "metadata": {},
          "execution_count": 5
        }
      ]
    },
    {
      "cell_type": "code",
      "source": [
        "# Vector\n",
        "# Vectors is a single dimension tensor but can contain many numbers. For example [3, 2] to describe [bedrooms, bathrooms] in your house.\n",
        "vector = torch.tensor([7, 7])\n",
        "vector"
      ],
      "metadata": {
        "colab": {
          "base_uri": "https://localhost:8080/"
        },
        "id": "rtO43q17i_1T",
        "outputId": "d9e10dac-9671-4d21-a78f-9ef3869097e4"
      },
      "execution_count": 6,
      "outputs": [
        {
          "output_type": "execute_result",
          "data": {
            "text/plain": [
              "tensor([7, 7])"
            ]
          },
          "metadata": {},
          "execution_count": 6
        }
      ]
    },
    {
      "cell_type": "code",
      "source": [
        "# Check the dimensions of vector\n",
        "vector.ndim"
      ],
      "metadata": {
        "colab": {
          "base_uri": "https://localhost:8080/"
        },
        "id": "5h100eKskhN5",
        "outputId": "1ad52c1c-c9f8-42fa-9167-38bc21a37b42"
      },
      "execution_count": 7,
      "outputs": [
        {
          "output_type": "execute_result",
          "data": {
            "text/plain": [
              "1"
            ]
          },
          "metadata": {},
          "execution_count": 7
        }
      ]
    },
    {
      "cell_type": "code",
      "source": [
        "# Check shape of vector\n",
        "vector.shape"
      ],
      "metadata": {
        "colab": {
          "base_uri": "https://localhost:8080/"
        },
        "id": "BS2H_ZLFkmvE",
        "outputId": "8944c7dd-3475-4276-bfef-fbc589b0b85d"
      },
      "execution_count": 8,
      "outputs": [
        {
          "output_type": "execute_result",
          "data": {
            "text/plain": [
              "torch.Size([2])"
            ]
          },
          "metadata": {},
          "execution_count": 8
        }
      ]
    },
    {
      "cell_type": "code",
      "source": [
        "# Matrix\n",
        "MATRIX = torch.tensor([[7, 8],\n",
        "                      [9, 10]])\n",
        "MATRIX"
      ],
      "metadata": {
        "colab": {
          "base_uri": "https://localhost:8080/"
        },
        "id": "8wJoe4MupZYA",
        "outputId": "10d0b1ce-624b-4229-8f6d-9d8cf10978e3"
      },
      "execution_count": 9,
      "outputs": [
        {
          "output_type": "execute_result",
          "data": {
            "text/plain": [
              "tensor([[ 7,  8],\n",
              "        [ 9, 10]])"
            ]
          },
          "metadata": {},
          "execution_count": 9
        }
      ]
    },
    {
      "cell_type": "code",
      "source": [
        "# Check number of dimensions\n",
        "MATRIX.ndim"
      ],
      "metadata": {
        "colab": {
          "base_uri": "https://localhost:8080/"
        },
        "id": "q8x3b1gAppCh",
        "outputId": "3bb31448-a5fc-4fd9-d37c-4874cd2aee4b"
      },
      "execution_count": 10,
      "outputs": [
        {
          "output_type": "execute_result",
          "data": {
            "text/plain": [
              "2"
            ]
          },
          "metadata": {},
          "execution_count": 10
        }
      ]
    },
    {
      "cell_type": "code",
      "source": [
        "MATRIX.shape"
      ],
      "metadata": {
        "colab": {
          "base_uri": "https://localhost:8080/"
        },
        "id": "YK4nZXbapsyw",
        "outputId": "59931544-f700-489c-ed1f-fdb6a8042270"
      },
      "execution_count": 11,
      "outputs": [
        {
          "output_type": "execute_result",
          "data": {
            "text/plain": [
              "torch.Size([2, 2])"
            ]
          },
          "metadata": {},
          "execution_count": 11
        }
      ]
    },
    {
      "cell_type": "code",
      "source": [
        "# Tensor\n",
        "TENSOR = torch.tensor([[[1, 2, 3],\n",
        "                        [3, 6, 9],\n",
        "                        [2, 4, 5]]])"
      ],
      "metadata": {
        "id": "n1Hs__qBp6b4"
      },
      "execution_count": 13,
      "outputs": []
    },
    {
      "cell_type": "code",
      "source": [
        "TENSOR.ndim"
      ],
      "metadata": {
        "colab": {
          "base_uri": "https://localhost:8080/"
        },
        "id": "nuegFF5uiUSz",
        "outputId": "06e79954-f84b-45db-c8ba-9c21b3c046ea"
      },
      "execution_count": 15,
      "outputs": [
        {
          "output_type": "execute_result",
          "data": {
            "text/plain": [
              "3"
            ]
          },
          "metadata": {},
          "execution_count": 15
        }
      ]
    },
    {
      "cell_type": "code",
      "source": [
        "TENSOR.shape"
      ],
      "metadata": {
        "colab": {
          "base_uri": "https://localhost:8080/"
        },
        "id": "rqsafkuFixH7",
        "outputId": "9069c4d1-3101-466a-e350-f541e3ad1f7f"
      },
      "execution_count": 16,
      "outputs": [
        {
          "output_type": "execute_result",
          "data": {
            "text/plain": [
              "torch.Size([1, 3, 3])"
            ]
          },
          "metadata": {},
          "execution_count": 16
        }
      ]
    },
    {
      "cell_type": "code",
      "source": [
        "TENSOR[0]"
      ],
      "metadata": {
        "colab": {
          "base_uri": "https://localhost:8080/"
        },
        "id": "p4nGJNSDi0R_",
        "outputId": "37692b0b-56d4-4416-a58d-7ddd38485be4"
      },
      "execution_count": 18,
      "outputs": [
        {
          "output_type": "execute_result",
          "data": {
            "text/plain": [
              "tensor([[1, 2, 3],\n",
              "        [3, 6, 9],\n",
              "        [2, 4, 5]])"
            ]
          },
          "metadata": {},
          "execution_count": 18
        }
      ]
    },
    {
      "cell_type": "code",
      "source": [
        "# Create a random tensor of size (4, 5)\n",
        "random_tensor = torch.rand(4, 5)\n",
        "random_tensor"
      ],
      "metadata": {
        "colab": {
          "base_uri": "https://localhost:8080/"
        },
        "id": "Af5Rrlgdw1MW",
        "outputId": "21f2221d-5eb5-4e33-b7c6-444a87d2d1e8"
      },
      "execution_count": 28,
      "outputs": [
        {
          "output_type": "execute_result",
          "data": {
            "text/plain": [
              "tensor([[0.0128, 0.8733, 0.9190, 0.9233, 0.5012],\n",
              "        [0.3033, 0.8458, 0.8380, 0.7789, 0.5363],\n",
              "        [0.8733, 0.4717, 0.1269, 0.8756, 0.5861],\n",
              "        [0.0515, 0.2444, 0.5725, 0.8316, 0.6484]])"
            ]
          },
          "metadata": {},
          "execution_count": 28
        }
      ]
    },
    {
      "cell_type": "code",
      "source": [
        "# Create a random tensor, with similiar shape to a tensor image\n",
        "random_image_tensor = torch.rand(size=(3, 224, 224)) # height, width, color channel\n",
        "random_image_tensor.shape, random_image_tensor.ndim"
      ],
      "metadata": {
        "colab": {
          "base_uri": "https://localhost:8080/"
        },
        "id": "EFbDQ7T7xBGS",
        "outputId": "139a95db-8f7d-4c9d-ac05-bac31c798e84"
      },
      "execution_count": 25,
      "outputs": [
        {
          "output_type": "execute_result",
          "data": {
            "text/plain": [
              "(torch.Size([3, 224, 224]), 3)"
            ]
          },
          "metadata": {},
          "execution_count": 25
        }
      ]
    },
    {
      "cell_type": "code",
      "source": [
        "random_image_tensor"
      ],
      "metadata": {
        "colab": {
          "base_uri": "https://localhost:8080/"
        },
        "id": "Ety7bLTFyu01",
        "outputId": "1a41f723-39c0-4934-f62a-bc5285b39290"
      },
      "execution_count": 29,
      "outputs": [
        {
          "output_type": "execute_result",
          "data": {
            "text/plain": [
              "tensor([[[4.8695e-01, 1.1780e-01, 9.4862e-01,  ..., 2.7099e-01,\n",
              "          1.9125e-01, 1.6237e-01],\n",
              "         [2.5165e-01, 5.9744e-02, 2.5787e-01,  ..., 2.2346e-01,\n",
              "          3.6083e-01, 7.8624e-01],\n",
              "         [6.2098e-01, 5.0951e-01, 3.8660e-01,  ..., 8.3098e-01,\n",
              "          3.3620e-01, 2.6112e-02],\n",
              "         ...,\n",
              "         [2.6482e-01, 5.4745e-01, 9.5037e-01,  ..., 4.0550e-01,\n",
              "          6.9568e-01, 1.8860e-01],\n",
              "         [2.2082e-01, 6.0226e-01, 2.7141e-03,  ..., 6.5519e-01,\n",
              "          3.7170e-01, 8.1095e-01],\n",
              "         [9.8852e-01, 8.0134e-01, 4.1875e-03,  ..., 9.4714e-01,\n",
              "          8.3316e-01, 8.3748e-01]],\n",
              "\n",
              "        [[7.7662e-01, 3.9083e-01, 9.1705e-01,  ..., 5.8049e-01,\n",
              "          7.1074e-01, 1.9175e-01],\n",
              "         [3.3785e-01, 9.2949e-01, 1.7348e-01,  ..., 4.8222e-01,\n",
              "          7.7291e-01, 8.6750e-01],\n",
              "         [6.3311e-01, 6.2372e-01, 5.7408e-01,  ..., 2.4507e-02,\n",
              "          1.8182e-01, 7.6005e-01],\n",
              "         ...,\n",
              "         [1.5983e-01, 3.9360e-01, 6.2321e-01,  ..., 3.0764e-01,\n",
              "          8.2250e-02, 1.4223e-01],\n",
              "         [1.0856e-01, 8.7389e-01, 9.4297e-01,  ..., 8.4897e-01,\n",
              "          1.7874e-02, 6.4533e-01],\n",
              "         [2.0033e-01, 9.9840e-01, 5.5024e-01,  ..., 7.5621e-01,\n",
              "          9.8092e-01, 6.9006e-01]],\n",
              "\n",
              "        [[1.7872e-01, 9.5967e-01, 4.8571e-01,  ..., 6.2748e-01,\n",
              "          5.0951e-01, 7.2806e-03],\n",
              "         [9.6530e-01, 9.3104e-01, 1.6540e-01,  ..., 9.0430e-01,\n",
              "          3.2694e-01, 8.1123e-01],\n",
              "         [7.2719e-01, 8.4034e-01, 1.8689e-01,  ..., 8.3529e-01,\n",
              "          5.1243e-01, 6.8076e-02],\n",
              "         ...,\n",
              "         [6.6567e-02, 4.3851e-04, 6.8617e-01,  ..., 2.2503e-01,\n",
              "          3.7545e-01, 5.1816e-01],\n",
              "         [3.1258e-01, 8.0494e-01, 8.8097e-01,  ..., 5.1064e-03,\n",
              "          5.9711e-01, 3.2738e-01],\n",
              "         [9.3278e-01, 5.1424e-01, 2.4008e-01,  ..., 7.0864e-01,\n",
              "          5.4204e-02, 1.0424e-01]]])"
            ]
          },
          "metadata": {},
          "execution_count": 29
        }
      ]
    },
    {
      "cell_type": "code",
      "source": [
        "# Create a tensor of 1s and 0s\n",
        "zeros = torch.zeros(size=(4, 5))\n",
        "zeros"
      ],
      "metadata": {
        "colab": {
          "base_uri": "https://localhost:8080/"
        },
        "id": "sHZJxE651ELS",
        "outputId": "6807e75f-3f8f-4696-d9fd-7ccd03647a5f"
      },
      "execution_count": 34,
      "outputs": [
        {
          "output_type": "execute_result",
          "data": {
            "text/plain": [
              "tensor([[0., 0., 0., 0., 0.],\n",
              "        [0., 0., 0., 0., 0.],\n",
              "        [0., 0., 0., 0., 0.],\n",
              "        [0., 0., 0., 0., 0.]])"
            ]
          },
          "metadata": {},
          "execution_count": 34
        }
      ]
    },
    {
      "cell_type": "code",
      "source": [
        "zeros*random_tensor"
      ],
      "metadata": {
        "colab": {
          "base_uri": "https://localhost:8080/"
        },
        "id": "ag0-fvMR1T8a",
        "outputId": "b58225a9-72f7-4880-f534-0c63039615a0"
      },
      "execution_count": 35,
      "outputs": [
        {
          "output_type": "execute_result",
          "data": {
            "text/plain": [
              "tensor([[0., 0., 0., 0., 0.],\n",
              "        [0., 0., 0., 0., 0.],\n",
              "        [0., 0., 0., 0., 0.],\n",
              "        [0., 0., 0., 0., 0.]])"
            ]
          },
          "metadata": {},
          "execution_count": 35
        }
      ]
    },
    {
      "cell_type": "code",
      "source": [
        "ones = torch.ones(size=(4,5))\n",
        "ones"
      ],
      "metadata": {
        "colab": {
          "base_uri": "https://localhost:8080/"
        },
        "id": "QpzfsGBr1j75",
        "outputId": "8663c4f4-c319-4c1a-8ca2-22d61215a47f"
      },
      "execution_count": 36,
      "outputs": [
        {
          "output_type": "execute_result",
          "data": {
            "text/plain": [
              "tensor([[1., 1., 1., 1., 1.],\n",
              "        [1., 1., 1., 1., 1.],\n",
              "        [1., 1., 1., 1., 1.],\n",
              "        [1., 1., 1., 1., 1.]])"
            ]
          },
          "metadata": {},
          "execution_count": 36
        }
      ]
    },
    {
      "cell_type": "code",
      "source": [
        "ones*random_tensor"
      ],
      "metadata": {
        "colab": {
          "base_uri": "https://localhost:8080/"
        },
        "id": "yjTHzi_M1n4Q",
        "outputId": "2a4d1630-add6-446c-abe0-9d9f169eebba"
      },
      "execution_count": 38,
      "outputs": [
        {
          "output_type": "execute_result",
          "data": {
            "text/plain": [
              "tensor([[0.0128, 0.8733, 0.9190, 0.9233, 0.5012],\n",
              "        [0.3033, 0.8458, 0.8380, 0.7789, 0.5363],\n",
              "        [0.8733, 0.4717, 0.1269, 0.8756, 0.5861],\n",
              "        [0.0515, 0.2444, 0.5725, 0.8316, 0.6484]])"
            ]
          },
          "metadata": {},
          "execution_count": 38
        }
      ]
    },
    {
      "cell_type": "code",
      "source": [
        "ones.dtype"
      ],
      "metadata": {
        "colab": {
          "base_uri": "https://localhost:8080/"
        },
        "id": "HYkLv79D10Ub",
        "outputId": "ae90bd01-c4f1-4b84-d3a8-a02a4415d80c"
      },
      "execution_count": 39,
      "outputs": [
        {
          "output_type": "execute_result",
          "data": {
            "text/plain": [
              "torch.float32"
            ]
          },
          "metadata": {},
          "execution_count": 39
        }
      ]
    },
    {
      "cell_type": "markdown",
      "source": [
        "# Creating Range for Tensors and Tensor-likes"
      ],
      "metadata": {
        "id": "YBZ_peEl2QID"
      }
    },
    {
      "cell_type": "code",
      "source": [
        "# Use Tensor.range()\n",
        "torch.arange(1, 11)"
      ],
      "metadata": {
        "colab": {
          "base_uri": "https://localhost:8080/"
        },
        "id": "bNDLVBSQ2TmB",
        "outputId": "552321d5-cc14-46b1-f681-20a3148506da"
      },
      "execution_count": 43,
      "outputs": [
        {
          "output_type": "execute_result",
          "data": {
            "text/plain": [
              "tensor([ 1,  2,  3,  4,  5,  6,  7,  8,  9, 10])"
            ]
          },
          "metadata": {},
          "execution_count": 43
        }
      ]
    },
    {
      "cell_type": "code",
      "source": [
        "torch.arange(1, 6, 2)"
      ],
      "metadata": {
        "colab": {
          "base_uri": "https://localhost:8080/"
        },
        "id": "AUWOwF-e4x_V",
        "outputId": "20bb4f70-56d1-4c10-f520-68bd61cb626a"
      },
      "execution_count": 44,
      "outputs": [
        {
          "output_type": "execute_result",
          "data": {
            "text/plain": [
              "tensor([1, 3, 5])"
            ]
          },
          "metadata": {},
          "execution_count": 44
        }
      ]
    },
    {
      "cell_type": "code",
      "source": [
        "torch.arange(1, 10.25, 0.75)"
      ],
      "metadata": {
        "colab": {
          "base_uri": "https://localhost:8080/"
        },
        "id": "8mrkTTiI4ybc",
        "outputId": "fe6328f9-a871-46a8-b27c-b919c21b8484"
      },
      "execution_count": 47,
      "outputs": [
        {
          "output_type": "execute_result",
          "data": {
            "text/plain": [
              "tensor([ 1.0000,  1.7500,  2.5000,  3.2500,  4.0000,  4.7500,  5.5000,  6.2500,\n",
              "         7.0000,  7.7500,  8.5000,  9.2500, 10.0000])"
            ]
          },
          "metadata": {},
          "execution_count": 47
        }
      ]
    },
    {
      "cell_type": "markdown",
      "source": [
        "# ** Tensor data types\n",
        "\n",
        "Note: Most erros from tesnorflow stem from data types\n",
        "\n",
        "1. Tensors aren't the right datatypes\n",
        "2. Tensors aren't the right shape\n",
        "3. Tensors aren't on the right device"
      ],
      "metadata": {
        "id": "7ignAc0-psK_"
      }
    },
    {
      "cell_type": "code",
      "source": [
        "# Float 32 tensor\n",
        "random_tensor = torch.tensor ([3.0, 6.0, 9.0] ,\n",
        "                              dtype=None,\n",
        "                              device=None,\n",
        "                              requires_grad=False)\n",
        "random_tensor\n"
      ],
      "metadata": {
        "colab": {
          "base_uri": "https://localhost:8080/"
        },
        "id": "Hu9fJL0Z5CAL",
        "outputId": "d3926b22-8f30-444d-e865-d79067d5c44b"
      },
      "execution_count": 2,
      "outputs": [
        {
          "output_type": "execute_result",
          "data": {
            "text/plain": [
              "tensor([3., 6., 9.])"
            ]
          },
          "metadata": {},
          "execution_count": 2
        }
      ]
    }
  ]
}